{
 "cells": [
  {
   "cell_type": "code",
   "execution_count": 4,
   "id": "d1402df7",
   "metadata": {},
   "outputs": [],
   "source": [
    "import numpy as np\n",
    "import os\n",
    "from PIL import Image\n",
    "from sklearn.model_selection import KFold\n",
    "from sklearn.metrics import accuracy_score\n",
    "import matplotlib.pyplot as plt\n",
    "\n",
    "def load_images_from_folder(folder):\n",
    "    images = []\n",
    "    labels = []\n",
    "    for label, subfolder in enumerate(os.listdir(folder)):\n",
    "        subfolder_path = os.path.join(folder, subfolder)\n",
    "        for filename in os.listdir(subfolder_path):\n",
    "            img_path = os.path.join(subfolder_path, filename)\n",
    "            with Image.open(img_path) as img:\n",
    "                img_gray = img.convert('L') \n",
    "                images.append(np.array(img_gray).flatten()) \n",
    "                labels.append(label)\n",
    "    return np.array(images), np.array(labels)\n",
    "\n",
    "train_images, train_labels = load_images_from_folder('train')\n"
   ]
  },
  {
   "cell_type": "code",
   "execution_count": 5,
   "id": "d6c7ac0f",
   "metadata": {},
   "outputs": [],
   "source": [
    "# k-NN Implementation\n",
    "def euclidean_distance(x1, x2):\n",
    "    return np.sqrt(np.sum((x1 - x2) ** 2))\n",
    "\n",
    "def manhattan_distance(x1, x2):\n",
    "    return np.sum(abs(x1 - x2))\n",
    "\n",
    "def knn_predict(X_train, y_train, X_test, k=3, distance='l2'):\n",
    "    predictions = []\n",
    "    for x_test in X_test:\n",
    "        if distance == 'l2':\n",
    "            distances = [euclidean_distance(x_test, x_train) for x_train in X_train]\n",
    "        elif distance == 'l1':\n",
    "            distances = [manhattan_distance(x_test, x_train) for x_train in X_train]\n",
    "        k_indices = np.argsort(distances)[:k]\n",
    "        k_nearest_labels = [y_train[i] for i in k_indices]\n",
    "        most_common = max(set(k_nearest_labels), key=k_nearest_labels.count)\n",
    "        predictions.append(most_common)\n",
    "    return predictions\n"
   ]
  },
  {
   "cell_type": "code",
   "execution_count": null,
   "id": "ee255a06",
   "metadata": {},
   "outputs": [],
   "source": [
    "# 5-Fold Cross Validation Setup\n",
    "kf = KFold(n_splits=5, shuffle=True, random_state=42)\n",
    "k_values = [1, 3, 5, 7, 9]\n",
    "distance_metrics = ['l1', 'l2']\n",
    "\n",
    "accuracy_scores = {metric: {k: [] for k in k_values} for metric in distance_metrics}\n",
    "\n",
    "for train_index, test_index in kf.split(train_images):\n",
    "    X_train, X_test = train_images[train_index], train_images[test_index]\n",
    "    y_train, y_test = train_labels[train_index], train_labels[test_index]\n",
    "    \n",
    "    for distance in distance_metrics:\n",
    "        for k in k_values:\n",
    "            y_pred = knn_predict(X_train, y_train, X_test, k=k, distance=distance)\n",
    "            accuracy = accuracy_score(y_test, y_pred)\n",
    "            accuracy_scores[distance][k].append(accuracy)\n",
    "\n",
    "# Calculate the average accuracy for each combination of k and distance metric\n",
    "average_accuracies = {metric: {k: np.mean(scores) for k, scores in ks.items()} for metric, ks in accuracy_scores.items()}\n"
   ]
  },
  {
   "cell_type": "code",
   "execution_count": null,
   "id": "6b4b178f",
   "metadata": {},
   "outputs": [],
   "source": []
  }
 ],
 "metadata": {
  "kernelspec": {
   "display_name": "Python 3 (ipykernel)",
   "language": "python",
   "name": "python3"
  },
  "language_info": {
   "codemirror_mode": {
    "name": "ipython",
    "version": 3
   },
   "file_extension": ".py",
   "mimetype": "text/x-python",
   "name": "python",
   "nbconvert_exporter": "python",
   "pygments_lexer": "ipython3",
   "version": "3.9.13"
  }
 },
 "nbformat": 4,
 "nbformat_minor": 5
}
